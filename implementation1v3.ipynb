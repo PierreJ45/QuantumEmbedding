{
 "cells": [
  {
   "cell_type": "markdown",
   "metadata": {},
   "source": [
    "# Imports and Data"
   ]
  },
  {
   "cell_type": "code",
   "execution_count": 209,
   "metadata": {},
   "outputs": [],
   "source": [
    "import matplotlib.pyplot as plt\n",
    "import numpy as np\n",
    "from qiskit import QuantumCircuit\n",
    "from qiskit.circuit import Parameter\n",
    "from qiskit_machine_learning.utils import algorithm_globals\n",
    "from scipy.optimize import minimize\n",
    "from qiskit.quantum_info import Pauli\n",
    "from qiskit_aer.primitives import Estimator\n",
    "from numpy.typing import NDArray\n",
    "\n",
    "algorithm_globals.random_seed = 42"
   ]
  },
  {
   "cell_type": "code",
   "execution_count": 210,
   "metadata": {},
   "outputs": [],
   "source": [
    "num_inputs = 1 # num of features (p)\n",
    "num_samples_train = 128 # num of instances (n)\n",
    "num_samples_test = 32\n",
    "num_params = 4\n",
    "nb_iter = 2"
   ]
  },
  {
   "cell_type": "code",
   "execution_count": 211,
   "metadata": {},
   "outputs": [],
   "source": [
    "# Points between -2 and 2 on a single axis\n",
    "X = 4 * algorithm_globals.random.random(num_samples_train) - 2  \n",
    "X_test = 4 * algorithm_globals.random.random(num_samples_test) - 2\n",
    "\n",
    "# Blue if between -1 and 1, red otherwise\n",
    "Y = np.where((X >= -1) & (X <= 1), 1, -1)  # Y contains 1 and -1\n",
    "Y_test = np.where((X_test >= -1) & (X_test <= 1), 1, -1)\n",
    "\n",
    "# Ensure the arrays are of type float64\n",
    "X = X.astype(np.float64)\n",
    "Y = Y.astype(np.float64)\n",
    "X_test = X_test.astype(np.float64)\n",
    "Y_test = Y_test.astype(np.float64)"
   ]
  },
  {
   "cell_type": "code",
   "execution_count": 212,
   "metadata": {},
   "outputs": [
    {
     "data": {
      "image/png": "[encoded data removed]",
      "text/plain": [
       "<Figure size 640x480 with 1 Axes>"
      ]
     },
     "metadata": {},
     "output_type": "display_data"
    }
   ],
   "source": [
    "# On plot la distribution\n",
    "for x_i, y_i in zip(X, Y):\n",
    "    if y_i == 1:\n",
    "        plt.plot(x_i, 0, \"bo\") \n",
    "    else:\n",
    "        plt.plot(x_i, 0, \"ro\")\n",
    "\n",
    "plt.axhline(0, color=\"lightgray\", linewidth=0.5)\n",
    "plt.title(\"Original train data\")\n",
    "plt.xlabel(\"x_1\")\n",
    "plt.xticks([-2, -1, 0, 1, 2])\n",
    "plt.yticks([])\n",
    "plt.xlim(-2, 2)\n",
    "plt.show()"
   ]
  },
  {
   "cell_type": "markdown",
   "metadata": {},
   "source": [
    "# Circuit"
   ]
  },
  {
   "cell_type": "code",
   "execution_count": 213,
   "metadata": {},
   "outputs": [
    {
     "data": {
      "image/png": "[encoded data removed]",
      "text/plain": [
       "<Figure size 854.342x117.056 with 1 Axes>"
      ]
     },
     "execution_count": 213,
     "metadata": {},
     "output_type": "execute_result"
    }
   ],
   "source": [
    "# Le circuit contient 1 input et 4 paramètres à entrainer\n",
    "params5 = [Parameter(\"x1\"), Parameter(\"theta1\"), Parameter(\"theta2\"), Parameter(\"theta3\"), Parameter(\"theta4\")]\n",
    "# Le circuit utilise un seul qubit\n",
    "qcc = QuantumCircuit(1) \n",
    "# On suit l'architecture du papier\n",
    "qcc.rx(params5[0], 0)\n",
    "qcc.ry(params5[1], 0)\n",
    "qcc.rx(params5[0], 0)\n",
    "qcc.ry(params5[2], 0)\n",
    "qcc.rx(params5[0], 0)\n",
    "qcc.ry(params5[3], 0)\n",
    "qcc.rx(params5[0], 0)\n",
    "qcc.ry(params5[4], 0)\n",
    "qcc.rx(params5[0], 0)\n",
    "\n",
    "qcc.draw(\"mpl\", style=\"clifford\")"
   ]
  },
  {
   "cell_type": "code",
   "execution_count": 214,
   "metadata": {},
   "outputs": [
    {
     "data": {
      "image/png": "[encoded data removed]",
      "text/plain": [
       "<Figure size 454.719x367.889 with 1 Axes>"
      ]
     },
     "execution_count": 214,
     "metadata": {},
     "output_type": "execute_result"
    }
   ],
   "source": [
    "\n",
    "#Only for illustration purposes\n",
    "swapCircuit = QuantumCircuit(3, 1)\n",
    "\n",
    "swapCircuit.h(0)\n",
    "swapCircuit.cswap(0, 1, 2)\n",
    "swapCircuit.h(0)\n",
    "\n",
    "swapCircuit.measure(0, 0)\n",
    "\n",
    "swapCircuit.draw(\"mpl\")"
   ]
  },
  {
   "cell_type": "markdown",
   "metadata": {},
   "source": [
    "# Model"
   ]
  },
  {
   "cell_type": "code",
   "execution_count": 215,
   "metadata": {},
   "outputs": [],
   "source": [
    "class QuantumModel() :\n",
    "    def __init__(self, circuit: QuantumCircuit, params: NDArray[np.float64], X: NDArray[np.float64], Y: NDArray[np.float64]):\n",
    "        self.circuit: QuantumCircuit = circuit #The circuit outputs an embedding\n",
    "        self.params: NDArray[np.float64] = params\n",
    "        self.X: NDArray[np.float64] = X\n",
    "        self.Y: NDArray[np.float64] = Y\n",
    "        self.Xpositive: NDArray[np.float64] = self.X[self.Y == 1]\n",
    "        self.Xnegative: NDArray[np.float64] = self.X[self.Y == -1]\n",
    "\n",
    "        self.estimator = Estimator()\n",
    "        self.pauli_z = Pauli('ZII')\n",
    "\n",
    "    def updateParams(self, new_params: NDArray[np.float64]) :\n",
    "        self.params: NDArray[np.float64] = new_params\n",
    "\n",
    "    def fullSwapTestCircuit(self, x1: np.float64, x2: np.float64) -> QuantumCircuit :\n",
    "        \"\"\"\n",
    "        Returns a circuit that computes the swap test between two states, using self.params as parameters\n",
    "        \"\"\"\n",
    "\n",
    "        fullParams1 = {params5[0] : x1, params5[1] : self.params[0], params5[2] : self.params[1], params5[3] : self.params[2], params5[4] : self.params[3]}\n",
    "        circuit1 = self.circuit.copy()\n",
    "        circuit1.assign_parameters(fullParams1)\n",
    "\n",
    "        fullParams2 = {params5[0] : x2, params5[1] : self.params[0], params5[2] : self.params[1], params5[3] : self.params[2], params5[4] : self.params[3]}\n",
    "        circuit2 = self.circuit.copy()\n",
    "        circuit2.assign_parameters(fullParams2)\n",
    "\n",
    "        qc = QuantumCircuit(3, 1)\n",
    "\n",
    "        qc.h(0)\n",
    "        qc.compose(circuit1, [1], inplace=True)\n",
    "        qc.compose(circuit2, [2], inplace=True)\n",
    "        qc.cswap(0, 1, 2)\n",
    "        qc.h(0)\n",
    "\n",
    "        qc.measure(0, 0)\n",
    "\n",
    "        return qc\n",
    "\n",
    "    def fidelity(self, x1: np.float64, x2: np.float64) -> np.float64:\n",
    "        # Create a copy of the circuit to avoid modifying the original circuit\n",
    "        circuit1 = self.circuit.copy()\n",
    "        circuit2 = self.circuit.copy()\n",
    "\n",
    "        # Assign parameters to the circuits\n",
    "        fullParams1 = {\n",
    "            params5[0]: x1,\n",
    "            params5[1]: self.params[0],\n",
    "            params5[2]: self.params[1],\n",
    "            params5[3]: self.params[2],\n",
    "            params5[4]: self.params[3]\n",
    "        }\n",
    "        circuit1 = circuit1.assign_parameters(fullParams1)\n",
    "\n",
    "        fullParams2 = {\n",
    "            params5[0]: x2,\n",
    "            params5[1]: self.params[0],\n",
    "            params5[2]: self.params[1],\n",
    "            params5[3]: self.params[2],\n",
    "            params5[4]: self.params[3]\n",
    "        }\n",
    "        circuit2 = circuit2.assign_parameters(fullParams2)\n",
    "\n",
    "        # Create the swap test circuit\n",
    "        qc = QuantumCircuit(3, 1)\n",
    "        qc.h(0)\n",
    "        qc.compose(circuit1, [1], inplace=True)\n",
    "        qc.compose(circuit2, [2], inplace=True)\n",
    "        qc.cswap(0, 1, 2)\n",
    "        qc.h(0)\n",
    "        qc.measure(0, 0)\n",
    "\n",
    "        # Run the estimator\n",
    "        job = self.estimator.run([qc], [self.pauli_z])\n",
    "        result = job.result().values[0]\n",
    "\n",
    "        return np.float64(result)\n",
    "\n",
    "    def trace(self, class1: NDArray[np.float64], class2: NDArray[np.float64]) -> np.float64 :\n",
    "        \"\"\"\n",
    "        Compute the trace of the density matrix of class1 multiplied by the density matrix of class2\n",
    "\n",
    "        class1, class2 are arrays of data corresponding to each class\n",
    "        \"\"\"\n",
    "        result = np.float64(0)\n",
    "\n",
    "\n",
    "        for x1 in class1 :\n",
    "            for x2 in class2 :\n",
    "                result += self.fidelity(x1, x2)\n",
    "        \n",
    "        return result\n",
    "\n",
    "    def Dhs(self) -> np.float64 :\n",
    "        return self.trace(self.Xpositive, self.Xpositive) + self.trace(self.Xnegative, self.Xnegative) - 2*self.trace(self.Xpositive, self.Xnegative)\n",
    "\n",
    "    def loss(self) -> np.float64 :\n",
    "        return 1-0.5*self.Dhs()\n",
    "    \n",
    "    def xrhox(self, x: np.float64, class1: NDArray[np.float64]) -> np.float64 :\n",
    "        result = np.float64(0)\n",
    "\n",
    "        for x1 in class1 :\n",
    "            result += self.fidelity(x, x1)\n",
    "        \n",
    "        return result\n",
    "    \n",
    "    def fidelityMeasurement(self, x: np.float64) -> np.float64 :\n",
    "        return self.xrhox(x, self.Xpositive) - self.xrhox(x, self.Xnegative)\n",
    "    \n",
    "    def predictArray(self, X: NDArray[np.float64]) -> NDArray[np.float64] :\n",
    "        return np.array([self.fidelityMeasurement(x) for x in X])"
   ]
  },
  {
   "cell_type": "code",
   "execution_count": 216,
   "metadata": {},
   "outputs": [
    {
     "name": "stderr",
     "output_type": "stream",
     "text": [
      "C:\\Users\\sandr\\AppData\\Local\\Temp\\ipykernel_19348\\1185181023.py:3: DeprecationWarning: Estimator has been deprecated as of Aer 0.15, please use EstimatorV2 instead.\n",
      "  model = QuantumModel(qcc, initParams, X, Y)\n",
      "C:\\Users\\sandr\\AppData\\Local\\Temp\\ipykernel_19348\\1185181023.py:3: DeprecationWarning: Option approximation=False is deprecated as of qiskit-aer 0.13. It will be removed no earlier than 3 months after the release date. Instead, use BackendEstimator from qiskit.primitives.\n",
      "  model = QuantumModel(qcc, initParams, X, Y)\n"
     ]
    }
   ],
   "source": [
    "initParams = np.zeros(num_params, dtype=np.float64)\n",
    "\n",
    "model = QuantumModel(qcc, initParams, X, Y)"
   ]
  },
  {
   "cell_type": "code",
   "execution_count": 217,
   "metadata": {},
   "outputs": [
    {
     "data": {
      "image/png": "[encoded data removed]",
      "text/plain": [
       "<Figure size 1123.61x367.889 with 1 Axes>"
      ]
     },
     "execution_count": 217,
     "metadata": {},
     "output_type": "execute_result"
    }
   ],
   "source": [
    "cc = model.fullSwapTestCircuit(np.float64(11), np.float64(22))\n",
    "\n",
    "cc.draw(\"mpl\")"
   ]
  },
  {
   "cell_type": "markdown",
   "metadata": {},
   "source": [
    "# Optimisation"
   ]
  },
  {
   "cell_type": "code",
   "execution_count": 218,
   "metadata": {},
   "outputs": [],
   "source": [
    "def objectiveFunction(params_: NDArray[np.float64]) -> np.float64 :\n",
    "    model.updateParams(params_)\n",
    "    return model.loss()\n"
   ]
  },
  {
   "cell_type": "code",
   "execution_count": null,
   "metadata": {},
   "outputs": [],
   "source": [
    "\n",
    "def train() :\n",
    "    result = minimize(objectiveFunction, initParams, method=\"COBYLA\", options={'maxiter': nb_iter})\n",
    "\n",
    "    return result\n",
    "\n",
    "result = train()\n",
    "print(result)\n"
   ]
  },
  {
   "cell_type": "markdown",
   "metadata": {},
   "source": [
    "# Inference"
   ]
  },
  {
   "cell_type": "code",
   "execution_count": null,
   "metadata": {},
   "outputs": [],
   "source": [
    "x = np.float64(0.22)\n",
    "\n",
    "print(model.fidelityMeasurement(x))"
   ]
  },
  {
   "cell_type": "markdown",
   "metadata": {},
   "source": [
    "# Plots"
   ]
  },
  {
   "cell_type": "code",
   "execution_count": null,
   "metadata": {},
   "outputs": [],
   "source": [
    "\n",
    "def plotPredictionsOnTest(params: NDArray[np.float64]) :\n",
    "    model.updateParams(params)\n",
    "\n",
    "    Y_predict = model.predictArray(X_test)\n",
    "\n",
    "    for x_i, y_i in zip(X_test, Y_predict):\n",
    "        if y_i > 0:\n",
    "            plt.plot(x_i, 0, \"bo\") \n",
    "        else:\n",
    "            plt.plot(x_i, 0, \"ro\")\n",
    "\n",
    "        # On entoure les instances mal classifiées en vert\n",
    "        if Y_test != Y_predict:\n",
    "            plt.scatter(x_i[0], 0, s=200, facecolors=\"none\", edgecolors=\"g\", linewidths=2)\n",
    "\n",
    "    plt.axhline(0, color=\"lightgray\", linewidth=0.5)\n",
    "    plt.title(\"Predicted test data\")\n",
    "    plt.xlabel(\"x_1\")\n",
    "    plt.xticks([-2, -1, 0, 1, 2])\n",
    "    plt.yticks([])\n",
    "    plt.xlim(-2, 2)\n",
    "    plt.show()"
   ]
  },
  {
   "cell_type": "markdown",
   "metadata": {},
   "source": [
    "### With random parameters"
   ]
  },
  {
   "cell_type": "code",
   "execution_count": null,
   "metadata": {},
   "outputs": [],
   "source": [
    "randomParams = 4 * np.pi * algorithm_globals.random.random(num_params)\n",
    "\n",
    "plotPredictionsOnTest(randomParams)"
   ]
  },
  {
   "cell_type": "markdown",
   "metadata": {},
   "source": [
    "### With optimized parameters"
   ]
  },
  {
   "cell_type": "code",
   "execution_count": null,
   "metadata": {},
   "outputs": [],
   "source": [
    "optimalParams = result.x\n",
    "\n",
    "plotPredictionsOnTest(optimalParams)"
   ]
  },
  {
   "cell_type": "markdown",
   "metadata": {},
   "source": [
    "# Inspiration"
   ]
  },
  {
   "cell_type": "code",
   "execution_count": null,
   "metadata": {},
   "outputs": [],
   "source": [
    "#plotting\n",
    "\n",
    "# On génère les valeurs prédites sur le test set\n",
    "y_predict_test = estimator_classifier.predict(X_test)\n",
    "\n",
    "# On plot le résultat\n",
    "# Red circles indicate misclassified points\n",
    "for x, y_target, y_p in zip(X_test, y_test, y_predict_test):\n",
    "    if y_p == 1:\n",
    "        plt.plot(x[0], 0, \"bo\") \n",
    "    else:\n",
    "        plt.plot(x[0], 0, \"ro\")\n",
    "    \n",
    "    # On entoure les instances mal classifiées en vert\n",
    "    if y_target != y_p:\n",
    "        plt.scatter(x[0], 0, s=200, facecolors=\"none\", edgecolors=\"g\", linewidths=2)\n",
    "\n",
    "plt.axhline(0, color=\"lightgray\", linewidth=0.5)\n",
    "plt.title(\"Prediction Results (Green = Misclassified)\")\n",
    "plt.xlabel(\"x_1\")\n",
    "plt.show()\n",
    "score_test = estimator_classifier.score(X_test, y_test)\n",
    "print(f\"Score sur les données de test: {score_test}\")"
   ]
  },
  {
   "cell_type": "code",
   "execution_count": null,
   "metadata": {},
   "outputs": [
    {
     "name": "stdout",
     "output_type": "stream",
     "text": [
      "Average Measurement Result: -0.76953125\n"
     ]
    }
   ],
   "source": [
    "# assign and run a circuit\n",
    "\n",
    "from qiskit import QuantumCircuit\n",
    "from qiskit.circuit import Parameter\n",
    "import numpy as np\n",
    "import matplotlib.pyplot as plt\n",
    "\n",
    "# Define parameters for the circuit (example: 4 parameters)\n",
    "params = [Parameter(\"x1\"), Parameter(\"theta1\"), Parameter(\"theta2\"), Parameter(\"theta3\")]\n",
    "\n",
    "# Create a quantum circuit with 1 qubit and 1 classical bit\n",
    "qcc = QuantumCircuit(1, 1)\n",
    "\n",
    "# Apply gates with parameters\n",
    "qcc.rx(params[0], 0)  # First RX gate\n",
    "qcc.ry(params[1], 0)  # First RY gate\n",
    "qcc.rx(params[2], 0)  # Second RX gate\n",
    "qcc.ry(params[3], 0)  # Second RY gate\n",
    "\n",
    "# Add a measurement operation\n",
    "qcc.measure(0, 0)\n",
    "\n",
    "# Define the parameter values to bind to the circuit\n",
    "param_values = {params[0]: np.pi / 2, params[1]: np.pi / 4, params[2]: np.pi / 3, params[3]: np.pi / 6}\n",
    "\n",
    "# Bind the parameters to the circuit\n",
    "qcc_with_params = qcc.assign_parameters(param_values)\n",
    "\n",
    "# Set up the estimator and run the circuit\n",
    "estimator = Estimator()\n",
    "\n",
    "# Define the Pauli operator for measurement (Z operator in this case)\n",
    "pauli_z = Pauli('Z')\n",
    "\n",
    "# Run the estimator on the circuit with the Pauli operator\n",
    "job = estimator.run([qcc_with_params], [pauli_z])\n",
    "\n",
    "# Get the result from the execution\n",
    "result = job.result().values[0]\n",
    "\n",
    "# Print the average measurement result\n",
    "print(\"Average Measurement Result:\", result)\n"
   ]
  },
  {
   "cell_type": "code",
   "execution_count": null,
   "metadata": {},
   "outputs": [
    {
     "name": "stdout",
     "output_type": "stream",
     "text": [
      " message: Optimization terminated successfully.\n",
      " success: True\n",
      "  status: 1\n",
      "     fun: 2.228145834458338e-09\n",
      "       x: [-2.429e-06  2.538e-05  1.476e-05 -3.688e-05]\n",
      "    nfev: 1092\n",
      "   maxcv: 0.0\n"
     ]
    }
   ],
   "source": [
    "# cobyla tuto\n",
    "\n",
    "def objective_function(params_):\n",
    "    return params_[0]**2 + params_[1]**2 + params_[2]**2 + params_[3]**2\n",
    "\n",
    "def train() :\n",
    "    initial_params = np.array([1.0, -1.0, 10.0, 999.0])\n",
    "\n",
    "    result = minimize(objective_function, initial_params, method=\"COBYLA\", options={'maxiter': 10000})\n",
    "\n",
    "    return result\n",
    "\n",
    "result = train()\n",
    "print(result)\n"
   ]
  },
  {
   "cell_type": "code",
   "execution_count": null,
   "metadata": {},
   "outputs": [],
   "source": [
    "#multiqubit swap test maybe\n",
    "\n",
    "from qiskit import QuantumCircuit\n",
    "\n",
    "def create_swap_test(num_qubits: int):\n",
    "    \"\"\"\n",
    "    Creates a swap test circuit.\n",
    "\n",
    "    Args:\n",
    "        num_qubits: The total number of qubits in the two registers to be compared.\n",
    "\n",
    "    Returns:\n",
    "        A QuantumCircuit implementing the swap test.\n",
    "    \"\"\"\n",
    "    # The swap test needs 1 ancillary qubit and 2 registers of qubits\n",
    "    swap_test_circuit = QuantumCircuit(num_qubits + 1, 1)\n",
    "\n",
    "    # Apply a Hadamard gate to the ancillary qubit\n",
    "    swap_test_circuit.h(0)\n",
    "\n",
    "    # Apply controlled-SWAP gates between the two qubit registers\n",
    "    for i in range(1, (num_qubits // 2) + 1):\n",
    "        swap_test_circuit.cswap(0, i, i + (num_qubits // 2))\n",
    "\n",
    "    # Apply another Hadamard gate to the ancillary qubit\n",
    "    swap_test_circuit.h(0)\n",
    "\n",
    "    # Measure the ancillary qubit\n",
    "    swap_test_circuit.measure(0, 0)\n",
    "\n",
    "    return swap_test_circuit\n"
   ]
  },
  {
   "cell_type": "code",
   "execution_count": null,
   "metadata": {},
   "outputs": [],
   "source": [
    "#cat\n",
    "\n",
    "x1 = 2\n",
    "\n",
    "fullparams = np.concatenate(([x1], initParams))\n",
    "\n",
    "print(fullparams)"
   ]
  }
 ],
 "metadata": {
  "kernelspec": {
   "display_name": "qiskitEnv",
   "language": "python",
   "name": "python3"
  },
  "language_info": {
   "codemirror_mode": {
    "name": "ipython",
    "version": 3
   },
   "file_extension": ".py",
   "mimetype": "text/x-python",
   "name": "python",
   "nbconvert_exporter": "python",
   "pygments_lexer": "ipython3",
   "version": "3.10.9"
  }
 },
 "nbformat": 4,
 "nbformat_minor": 2
}
