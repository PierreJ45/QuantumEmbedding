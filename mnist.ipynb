{
 "cells": [
  {
   "cell_type": "markdown",
   "metadata": {},
   "source": [
    "# Imports and constants"
   ]
  },
  {
   "cell_type": "code",
   "execution_count": 1,
   "metadata": {},
   "outputs": [],
   "source": [
    "import matplotlib.pyplot as plt\n",
    "import numpy as np\n",
    "from IPython.display import clear_output\n",
    "from qiskit import QuantumCircuit\n",
    "from qiskit.circuit import Parameter\n",
    "from qiskit.circuit.library import RealAmplitudes, ZZFeatureMap\n",
    "from qiskit_machine_learning.optimizers import COBYLA, L_BFGS_B, GradientDescent, ADAM\n",
    "from qiskit_machine_learning.utils import algorithm_globals\n",
    "\n",
    "from qiskit_machine_learning.algorithms.classifiers import NeuralNetworkClassifier, VQC\n",
    "from qiskit_machine_learning.neural_networks import SamplerQNN, EstimatorQNN\n",
    "from qiskit.circuit import Parameter\n",
    "from qiskit.primitives import StatevectorEstimator as Estimator\n",
    "\n",
    "algorithm_globals.random_seed = 42\n",
    "\n",
    "from sklearn.datasets import fetch_openml\n",
    "\n",
    "import torch\n",
    "\n",
    "import torchvision.models as models"
   ]
  },
  {
   "cell_type": "code",
   "execution_count": 2,
   "metadata": {},
   "outputs": [],
   "source": [
    "BACKEND = \"qasm_simulator\"\n",
    "\n",
    "num_inputs = 2 # num of features (n)\n",
    "num_samples = 64 # num of samples\n",
    "num_params = 12 # num of parameters (m)\n",
    "num_qubits = 2 # num of qubits"
   ]
  },
  {
   "cell_type": "markdown",
   "metadata": {},
   "source": [
    "# Dataset"
   ]
  },
  {
   "cell_type": "code",
   "execution_count": 3,
   "metadata": {},
   "outputs": [
    {
     "name": "stdout",
     "output_type": "stream",
     "text": [
      "Number of samples: 70000\n",
      "Number of features: 784\n",
      "Number of classes: 10\n",
      "Classes: {'3', '5', '2', '1', '9', '6', '4', '8', '0', '7'}\n"
     ]
    }
   ],
   "source": [
    "# Fetch the MNIST dataset\n",
    "mnist = fetch_openml('mnist_784', version=1)\n",
    "\n",
    "# Extract data and target\n",
    "X_mnist, y_mnist = mnist[\"data\"], mnist[\"target\"]\n",
    "\n",
    "# Print statistics\n",
    "print(f\"Number of samples: {X_mnist.shape[0]}\")\n",
    "print(f\"Number of features: {X_mnist.shape[1]}\")\n",
    "print(f\"Number of classes: {len(set(y_mnist))}\")\n",
    "print(f\"Classes: {set(y_mnist)}\")"
   ]
  },
  {
   "cell_type": "code",
   "execution_count": 4,
   "metadata": {},
   "outputs": [
    {
     "data": {
      "image/png": "[encoded data removed]",
      "text/plain": [
       "<Figure size 640x480 with 1 Axes>"
      ]
     },
     "metadata": {},
     "output_type": "display_data"
    },
    {
     "name": "stdout",
     "output_type": "stream",
     "text": [
      "Label: 5\n"
     ]
    }
   ],
   "source": [
    "def plot_sample(i):\n",
    "    # Reshape the i-th sample to a 28x28 image\n",
    "    image = X_mnist.iloc[i].values.reshape(28, 28)\n",
    "\n",
    "    # Plot the image\n",
    "    plt.imshow(image, cmap='gray')\n",
    "    plt.title(f\"MNIST sample {i}\")\n",
    "    plt.axis('off')\n",
    "    plt.show()\n",
    "\n",
    "plot_sample(0)\n",
    "\n",
    "print(f\"Label: {y_mnist[0]}\")"
   ]
  },
  {
   "cell_type": "markdown",
   "metadata": {},
   "source": [
    "# Preprocess"
   ]
  },
  {
   "cell_type": "code",
   "execution_count": 5,
   "metadata": {},
   "outputs": [
    {
     "name": "stdout",
     "output_type": "stream",
     "text": [
      "torch.Size([1, 512, 1, 1])\n"
     ]
    }
   ],
   "source": [
    "# Load a pretrained ResNet model, trained on ImageNet so not MNIST\n",
    "resnetBackbone = models.resnet18(weights=models.ResNet18_Weights.DEFAULT)\n",
    "\n",
    "# Remove the last layer (fully connected layer)\n",
    "resnetBackbone = torch.nn.Sequential(*(list(resnetBackbone.children())[:-1])) \n",
    "\n",
    "input = torch.randn(1, 3, 224, 224)\n",
    "output = resnetBackbone(input)\n",
    "print(output.shape)\n",
    "\n",
    "# resnetbackbone :\n",
    "#input shape : 1, 3, 224, 224\n",
    "#output shape : 1, 512, 1, 1"
   ]
  },
  {
   "cell_type": "code",
   "execution_count": 6,
   "metadata": {},
   "outputs": [
    {
     "name": "stdout",
     "output_type": "stream",
     "text": [
      "<class 'numpy.ndarray'>\n",
      "(5, 784)\n",
      "(784,)\n",
      "(784,)\n",
      "(784,)\n",
      "(784,)\n",
      "(784,)\n"
     ]
    }
   ],
   "source": [
    "print(type(X_mnist.values))\n",
    "print(X_mnist.values[:5].shape)\n",
    "\n",
    "for fqsdv in X_mnist.values[:5]:\n",
    "    print(fqsdv.shape)"
   ]
  },
  {
   "cell_type": "code",
   "execution_count": 7,
   "metadata": {},
   "outputs": [
    {
     "name": "stdout",
     "output_type": "stream",
     "text": [
      "(784,)\n",
      "<class 'numpy.ndarray'>\n",
      "1.0\n"
     ]
    }
   ],
   "source": [
    "\n",
    "img0 = X_mnist.values[0]\n",
    "\n",
    "print(img0.shape)\n",
    "img0_tensor = torch.tensor(img0 / 255)\n",
    "print(type(img0_tensor.detach().numpy()))\n",
    "print(img0_tensor.detach().numpy().max())"
   ]
  },
  {
   "cell_type": "code",
   "execution_count": 8,
   "metadata": {},
   "outputs": [],
   "source": [
    "# now we create the input we will use : one image = (512, 1, 1)\n",
    "\n",
    "def processImage(image):\n",
    "    \"\"\"\n",
    "    input shape : 784\n",
    "    output shape : 1, 3, 224, 224\n",
    "    \"\"\"\n",
    "    normalized_tensor = torch.tensor(image / 255.0, dtype=torch.float32)\n",
    "    square_normalized_tensor = normalized_tensor.reshape(1, 1, 28, 28)\n",
    "    reshaped_normalized_tensor = torch.nn.functional.interpolate(square_normalized_tensor, size=(224, 224), mode=\"bilinear\")\n",
    "    reshaped_normalized_tensor = reshaped_normalized_tensor.repeat(1, 3, 1, 1)\n",
    "\n",
    "    return reshaped_normalized_tensor\n",
    "\n",
    "#a = processImage(X_mnist.values[0])\n",
    "#plt.imshow(a[0].permute(1, 2, 0).detach().numpy())"
   ]
  },
  {
   "cell_type": "code",
   "execution_count": 9,
   "metadata": {},
   "outputs": [],
   "source": [
    "X = torch.stack([resnetBackbone(processImage(image)) for image in X_mnist.values[:num_samples]])"
   ]
  },
  {
   "cell_type": "code",
   "execution_count": 11,
   "metadata": {},
   "outputs": [
    {
     "name": "stdout",
     "output_type": "stream",
     "text": [
      "torch.Size([64, 1, 512, 1, 1])\n"
     ]
    }
   ],
   "source": [
    "\n",
    "print(X.shape)"
   ]
  },
  {
   "cell_type": "markdown",
   "metadata": {},
   "source": [
    "# Circuit"
   ]
  },
  {
   "cell_type": "code",
   "execution_count": 17,
   "metadata": {},
   "outputs": [
    {
     "data": {
      "image/png": "[encoded data removed]",
      "text/plain": [
       "<Figure size 1541.46x200.667 with 1 Axes>"
      ]
     },
     "execution_count": 17,
     "metadata": {},
     "output_type": "execute_result"
    }
   ],
   "source": [
    "# 14 parameters : x1, x2, theta1, ...theta12\n",
    "params = [Parameter(f\"x{i}\") for i in range(1, num_inputs+1)] + [Parameter(f\"theta{i}\") for i in range(1, num_params+1)]\n",
    "\n",
    "qcc = QuantumCircuit(num_qubits) \n",
    "\n",
    "x1 = params[0]\n",
    "x2 = params[1]\n",
    "theta1 = params[2]\n",
    "theta2 = params[3]\n",
    "theta3 = params[4]\n",
    "theta4 = params[5]\n",
    "theta5 = params[6]\n",
    "theta6 = params[7]\n",
    "theta7 = params[8]\n",
    "theta8 = params[9]\n",
    "theta9 = params[10]\n",
    "theta10 = params[11]\n",
    "theta11 = params[12]\n",
    "theta12 = params[13]\n",
    "\n",
    "qcc.rx(x1, 0)\n",
    "qcc.rx(x2, 1)\n",
    "qcc.rzz(theta1, 0, 1)\n",
    "qcc.ry(theta2, 0)\n",
    "qcc.ry(theta3, 1)\n",
    "qcc.rx(x1, 0)\n",
    "qcc.rx(x2, 1)\n",
    "qcc.rzz(theta4, 0, 1)\n",
    "qcc.ry(theta5, 0)\n",
    "qcc.ry(theta6, 1)\n",
    "qcc.rx(x1, 0)\n",
    "qcc.rx(x2, 1)\n",
    "qcc.rzz(theta7, 0, 1)\n",
    "qcc.ry(theta8, 0)\n",
    "qcc.ry(theta9, 1)\n",
    "qcc.rx(x1, 0)\n",
    "qcc.rx(x2, 1)\n",
    "qcc.rzz(theta10, 0, 1)\n",
    "qcc.ry(theta11, 0)\n",
    "qcc.ry(theta12, 1)\n",
    "qcc.rx(x1, 0)\n",
    "qcc.rx(x2, 1)\n",
    "\n",
    "\n",
    "qcc.draw(\"mpl\", style=\"clifford\")"
   ]
  },
  {
   "cell_type": "code",
   "execution_count": 15,
   "metadata": {},
   "outputs": [],
   "source": [
    "# The classical part : \n",
    "# input shape = [batchSize, 512, 1, 1] (output of resnetBackbone)\n",
    "# output shape = [batchSize, 2] (which will be given to qcc as x1 and x2)\n",
    "\n",
    "class classicalPart(torch.nn.Module):\n",
    "    def __init__(self):\n",
    "        super(classicalPart, self).__init__()\n",
    "        self.flatten = torch.nn.Flatten()\n",
    "        self.fc1 = torch.nn.Linear(512, 2)\n",
    "    \n",
    "    def forward(self, x):\n",
    "        #print('a', x.shape)\n",
    "        x = self.flatten(x) # [batchSize, 512, 1, 1] -> [batchSize, 512]\n",
    "        #print('b', x.shape)\n",
    "        x = self.fc1(x) # [batchSize, 512] -> [batchSize, 2]\n",
    "        #print('c', x.shape)\n",
    "        return"
   ]
  },
  {
   "cell_type": "code",
   "execution_count": 27,
   "metadata": {},
   "outputs": [],
   "source": [
    "class hybridModel(torch.nn.Module):\n",
    "    def __init__(self, quantumCircuit, classicalPart):\n",
    "        super(hybridModel, self).__init__()\n",
    "        self.quantumCircuit = quantumCircuit\n",
    "        self.classicalPart = classicalPart\n",
    "        self.estimator = Estimator()\n",
    "        self.qnn_estimator = EstimatorQNN(circuit=self.quantumCircuit,\n",
    "                                          estimator=self.estimator,\n",
    "                                            input_params=params[:2],\n",
    "                                            weight_params=params[2:])\n",
    "    \n",
    "    def forward(self, x):\n",
    "        x = self.classicalPart(x)\n",
    "        x = self.quantumCircuit.forward(x)\n",
    "\n",
    "        return x"
   ]
  },
  {
   "cell_type": "code",
   "execution_count": 28,
   "metadata": {},
   "outputs": [
    {
     "name": "stderr",
     "output_type": "stream",
     "text": [
      "No gradient function provided, creating a gradient function. If your Estimator requires transpilation, please provide a pass manager.\n"
     ]
    }
   ],
   "source": [
    "cp = classicalPart()\n",
    "\n",
    "hybridmodel = hybridModel(qcc, cp)"
   ]
  },
  {
   "cell_type": "code",
   "execution_count": 29,
   "metadata": {},
   "outputs": [
    {
     "ename": "AttributeError",
     "evalue": "'QuantumCircuit' object has no attribute 'forward'",
     "output_type": "error",
     "traceback": [
      "\u001b[1;31m---------------------------------------------------------------------------\u001b[0m",
      "\u001b[1;31mAttributeError\u001b[0m                            Traceback (most recent call last)",
      "Cell \u001b[1;32mIn[29], line 1\u001b[0m\n\u001b[1;32m----> 1\u001b[0m res \u001b[38;5;241m=\u001b[39m \u001b[43mhybridmodel\u001b[49m\u001b[43m(\u001b[49m\u001b[43mX\u001b[49m\u001b[43m[\u001b[49m\u001b[38;5;241;43m0\u001b[39;49m\u001b[43m]\u001b[49m\u001b[43m)\u001b[49m\n\u001b[0;32m      3\u001b[0m \u001b[38;5;28mprint\u001b[39m(res\u001b[38;5;241m.\u001b[39mshape)\n",
      "File \u001b[1;32mc:\\Users\\sandr\\Desktop\\CACIB\\QiskitCode\\qiskitEnv\\lib\\site-packages\\torch\\nn\\modules\\module.py:1736\u001b[0m, in \u001b[0;36mModule._wrapped_call_impl\u001b[1;34m(self, *args, **kwargs)\u001b[0m\n\u001b[0;32m   1734\u001b[0m     \u001b[38;5;28;01mreturn\u001b[39;00m \u001b[38;5;28mself\u001b[39m\u001b[38;5;241m.\u001b[39m_compiled_call_impl(\u001b[38;5;241m*\u001b[39margs, \u001b[38;5;241m*\u001b[39m\u001b[38;5;241m*\u001b[39mkwargs)  \u001b[38;5;66;03m# type: ignore[misc]\u001b[39;00m\n\u001b[0;32m   1735\u001b[0m \u001b[38;5;28;01melse\u001b[39;00m:\n\u001b[1;32m-> 1736\u001b[0m     \u001b[38;5;28;01mreturn\u001b[39;00m \u001b[38;5;28mself\u001b[39m\u001b[38;5;241m.\u001b[39m_call_impl(\u001b[38;5;241m*\u001b[39margs, \u001b[38;5;241m*\u001b[39m\u001b[38;5;241m*\u001b[39mkwargs)\n",
      "File \u001b[1;32mc:\\Users\\sandr\\Desktop\\CACIB\\QiskitCode\\qiskitEnv\\lib\\site-packages\\torch\\nn\\modules\\module.py:1747\u001b[0m, in \u001b[0;36mModule._call_impl\u001b[1;34m(self, *args, **kwargs)\u001b[0m\n\u001b[0;32m   1742\u001b[0m \u001b[38;5;66;03m# If we don't have any hooks, we want to skip the rest of the logic in\u001b[39;00m\n\u001b[0;32m   1743\u001b[0m \u001b[38;5;66;03m# this function, and just call forward.\u001b[39;00m\n\u001b[0;32m   1744\u001b[0m \u001b[38;5;28;01mif\u001b[39;00m \u001b[38;5;129;01mnot\u001b[39;00m (\u001b[38;5;28mself\u001b[39m\u001b[38;5;241m.\u001b[39m_backward_hooks \u001b[38;5;129;01mor\u001b[39;00m \u001b[38;5;28mself\u001b[39m\u001b[38;5;241m.\u001b[39m_backward_pre_hooks \u001b[38;5;129;01mor\u001b[39;00m \u001b[38;5;28mself\u001b[39m\u001b[38;5;241m.\u001b[39m_forward_hooks \u001b[38;5;129;01mor\u001b[39;00m \u001b[38;5;28mself\u001b[39m\u001b[38;5;241m.\u001b[39m_forward_pre_hooks\n\u001b[0;32m   1745\u001b[0m         \u001b[38;5;129;01mor\u001b[39;00m _global_backward_pre_hooks \u001b[38;5;129;01mor\u001b[39;00m _global_backward_hooks\n\u001b[0;32m   1746\u001b[0m         \u001b[38;5;129;01mor\u001b[39;00m _global_forward_hooks \u001b[38;5;129;01mor\u001b[39;00m _global_forward_pre_hooks):\n\u001b[1;32m-> 1747\u001b[0m     \u001b[38;5;28;01mreturn\u001b[39;00m forward_call(\u001b[38;5;241m*\u001b[39margs, \u001b[38;5;241m*\u001b[39m\u001b[38;5;241m*\u001b[39mkwargs)\n\u001b[0;32m   1749\u001b[0m result \u001b[38;5;241m=\u001b[39m \u001b[38;5;28;01mNone\u001b[39;00m\n\u001b[0;32m   1750\u001b[0m called_always_called_hooks \u001b[38;5;241m=\u001b[39m \u001b[38;5;28mset\u001b[39m()\n",
      "Cell \u001b[1;32mIn[27], line 14\u001b[0m, in \u001b[0;36mhybridModel.forward\u001b[1;34m(self, x)\u001b[0m\n\u001b[0;32m     12\u001b[0m \u001b[38;5;28;01mdef\u001b[39;00m \u001b[38;5;21mforward\u001b[39m(\u001b[38;5;28mself\u001b[39m, x):\n\u001b[0;32m     13\u001b[0m     x \u001b[38;5;241m=\u001b[39m \u001b[38;5;28mself\u001b[39m\u001b[38;5;241m.\u001b[39mclassicalPart(x)\n\u001b[1;32m---> 14\u001b[0m     x \u001b[38;5;241m=\u001b[39m \u001b[38;5;28;43mself\u001b[39;49m\u001b[38;5;241;43m.\u001b[39;49m\u001b[43mquantumCircuit\u001b[49m\u001b[38;5;241;43m.\u001b[39;49m\u001b[43mforward\u001b[49m(x)\n\u001b[0;32m     16\u001b[0m     \u001b[38;5;28;01mreturn\u001b[39;00m x\n",
      "\u001b[1;31mAttributeError\u001b[0m: 'QuantumCircuit' object has no attribute 'forward'"
     ]
    }
   ],
   "source": [
    "res = hybridmodel(X[0])\n",
    "\n",
    "print(res.shape)"
   ]
  },
  {
   "cell_type": "code",
   "execution_count": 7,
   "metadata": {},
   "outputs": [
    {
     "name": "stderr",
     "output_type": "stream",
     "text": [
      "No gradient function provided, creating a gradient function. If your Estimator requires transpilation, please provide a pass manager.\n"
     ]
    }
   ],
   "source": [
    "# On prépare notre Estimator\n",
    "estimator = Estimator()\n",
    "estimator_qnn = EstimatorQNN(\n",
    "    circuit=qcc, \n",
    "    estimator=estimator,\n",
    "    input_params=[params[0]], \n",
    "    weight_params=[params[1], params[2], params[3], params[4]],\n",
    ")"
   ]
  },
  {
   "cell_type": "code",
   "execution_count": 8,
   "metadata": {},
   "outputs": [],
   "source": [
    "# On définit une callback function pour monitorer l'entrainement\n",
    "def callback_graph(obj_func_eval):\n",
    "    clear_output(wait=True)\n",
    "    objective_func_vals.append(obj_func_eval)\n",
    "    plt.title(\"Objective function value against iteration\")\n",
    "    plt.xlabel(\"Iteration\")\n",
    "    plt.ylabel(\"Objective function value\")\n",
    "    plt.plot(range(len(objective_func_vals)), objective_func_vals)\n",
    "    plt.show()"
   ]
  },
  {
   "cell_type": "code",
   "execution_count": 9,
   "metadata": {},
   "outputs": [],
   "source": [
    "# On prépare le classifier avec le circuit à entrainer et l'optimizer\n",
    "estimator_classifier = NeuralNetworkClassifier(\n",
    "    estimator_qnn, \n",
    "    optimizer=COBYLA(maxiter=6), \n",
    "    callback=callback_graph\n",
    ")"
   ]
  },
  {
   "cell_type": "code",
   "execution_count": 10,
   "metadata": {},
   "outputs": [
    {
     "data": {
      "image/png": "[encoded data removed]",
      "text/plain": [
       "<Figure size 640x480 with 1 Axes>"
      ]
     },
     "metadata": {},
     "output_type": "display_data"
    },
    {
     "data": {
      "text/plain": [
       "1.0"
      ]
     },
     "execution_count": 10,
     "metadata": {},
     "output_type": "execute_result"
    }
   ],
   "source": [
    "# On crée un array vide to stocker les valeurs de la loss pendant l'entrainement\n",
    "objective_func_vals = []\n",
    "# On fit le modèle aux données\n",
    "estimator_classifier.fit(X, y)\n",
    "# On affiche l'accuracy\n",
    "estimator_classifier.score(X, y)"
   ]
  },
  {
   "cell_type": "code",
   "execution_count": 11,
   "metadata": {},
   "outputs": [
    {
     "data": {
      "image/png": "[encoded data removed]",
      "text/plain": [
       "<Figure size 640x480 with 1 Axes>"
      ]
     },
     "metadata": {},
     "output_type": "display_data"
    }
   ],
   "source": [
    "# On génère les valeurs prédites\n",
    "y_predict = estimator_classifier.predict(X)\n",
    "\n",
    "# On plot le résultat\n",
    "# Red circles indicate misclassified points\n",
    "for x, y_target, y_p in zip(X, y, y_predict):\n",
    "    if y_p == 1:\n",
    "        plt.plot(x[0], 0, \"bo\") \n",
    "    else:\n",
    "        plt.plot(x[0], 0, \"ro\")\n",
    "    \n",
    "    # On entoure les instances mal classifiées en vert\n",
    "    if y_target != y_p:\n",
    "        plt.scatter(x[0], 0, s=200, facecolors=\"none\", edgecolors=\"g\", linewidths=2)\n",
    "\n",
    "plt.axhline(0, color=\"lightgray\", linewidth=0.5)\n",
    "plt.title(\"Prediction Results (Green = Misclassified)\")\n",
    "plt.xlabel(\"x_1\")\n",
    "plt.show()"
   ]
  },
  {
   "cell_type": "code",
   "execution_count": 12,
   "metadata": {},
   "outputs": [
    {
     "data": {
      "text/plain": [
       "array([1.74476216, 1.96750973, 1.32582536, 1.37045971])"
      ]
     },
     "execution_count": 12,
     "metadata": {},
     "output_type": "execute_result"
    }
   ],
   "source": [
    "# On affiche les valeurs des theta_i\n",
    "estimator_classifier.weights"
   ]
  }
 ],
 "metadata": {
  "kernelspec": {
   "display_name": "qiskitEnv",
   "language": "python",
   "name": "python3"
  },
  "language_info": {
   "codemirror_mode": {
    "name": "ipython",
    "version": 3
   },
   "file_extension": ".py",
   "mimetype": "text/x-python",
   "name": "python",
   "nbconvert_exporter": "python",
   "pygments_lexer": "ipython3",
   "version": "3.10.9"
  }
 },
 "nbformat": 4,
 "nbformat_minor": 2
}
