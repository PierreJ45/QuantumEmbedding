{
 "cells": [
  {
   "cell_type": "markdown",
   "metadata": {},
   "source": [
    "# Setup"
   ]
  },
  {
   "cell_type": "code",
   "execution_count": 162,
   "metadata": {},
   "outputs": [],
   "source": [
    "import matplotlib.pyplot as plt\n",
    "import numpy as np\n",
    "from qiskit import QuantumCircuit, transpile\n",
    "from qiskit.circuit import Parameter\n",
    "from qiskit_machine_learning.utils import algorithm_globals\n",
    "from scipy.optimize import minimize\n",
    "from numpy.typing import NDArray\n",
    "from qiskit_aer import AerSimulator"
   ]
  },
  {
   "cell_type": "code",
   "execution_count": 163,
   "metadata": {},
   "outputs": [],
   "source": [
    "seed = 40\n",
    "\n",
    "algorithm_globals.random_seed = seed\n",
    "np.random.seed(seed)"
   ]
  },
  {
   "cell_type": "code",
   "execution_count": 164,
   "metadata": {},
   "outputs": [],
   "source": [
    "num_inputs = 1 # num of features (p)\n",
    "num_samples_train = 256 # num of instances (n)\n",
    "batch_size = 32\n",
    "num_samples_test = 32\n",
    "test_batch_size = 16\n",
    "num_params = 4\n",
    "nb_iter = 1"
   ]
  },
  {
   "cell_type": "code",
   "execution_count": 165,
   "metadata": {},
   "outputs": [],
   "source": [
    "backend = AerSimulator()"
   ]
  },
  {
   "cell_type": "code",
   "execution_count": 166,
   "metadata": {},
   "outputs": [],
   "source": [
    "# Points between -2 and 2 on a single axis\n",
    "X = 4 * algorithm_globals.random.random(num_samples_train) - 2  \n",
    "X_test = 4 * algorithm_globals.random.random(num_samples_test) - 2\n",
    "\n",
    "# Blue if between -1 and 1, red otherwise\n",
    "Y = np.where((X >= -1) & (X <= 1), 1, -1)  # Y contains 1 and -1\n",
    "Y_test = np.where((X_test >= -1) & (X_test <= 1), 1, -1)\n",
    "\n",
    "# Ensure the arrays are of type float64\n",
    "X = X.astype(np.float64)\n",
    "Y = Y.astype(np.float64)\n",
    "X_test = X_test.astype(np.float64)\n",
    "Y_test = Y_test.astype(np.float64)"
   ]
  },
  {
   "cell_type": "code",
   "execution_count": 167,
   "metadata": {},
   "outputs": [
    {
     "data": {
      "image/png": "[encoded data removed]",
      "text/plain": [
       "<Figure size 640x480 with 1 Axes>"
      ]
     },
     "metadata": {},
     "output_type": "display_data"
    }
   ],
   "source": [
    "# On plot la distribution\n",
    "for x_i, y_i in zip(X, Y):\n",
    "    if y_i == 1:\n",
    "        plt.plot(x_i, 0, \"bo\") \n",
    "    else:\n",
    "        plt.plot(x_i, 0, \"ro\")\n",
    "\n",
    "plt.axhline(0, color=\"lightgray\", linewidth=0.5)\n",
    "plt.title(\"Original train data\")\n",
    "plt.xlabel(\"x_1\")\n",
    "plt.xticks([-2, -1, 0, 1, 2])\n",
    "plt.yticks([])\n",
    "plt.xlim(-2, 2)\n",
    "plt.show()"
   ]
  },
  {
   "cell_type": "markdown",
   "metadata": {},
   "source": [
    "# Model"
   ]
  },
  {
   "cell_type": "code",
   "execution_count": 168,
   "metadata": {},
   "outputs": [],
   "source": [
    "class QuantumModel() :\n",
    "    def __init__(self, paramValues: NDArray[np.float64], X: NDArray[np.float64], Y: NDArray[np.float64], batch_size: int,\n",
    "                  test_batch_size: int, backend, circuit = None, transpiledCircuit = None, shots = 1024,\n",
    "                  parameterList = [Parameter(\"x1\"), Parameter(\"x2\"), Parameter(\"theta1\"), Parameter(\"theta2\"), Parameter(\"theta3\"), Parameter(\"theta4\")]) :\n",
    "        \n",
    "        self.paramValues: NDArray[np.float64] = paramValues\n",
    "        self.X: NDArray[np.float64] = X\n",
    "        self.Y: NDArray[np.float64] = Y\n",
    "        self.batch_size: int = batch_size\n",
    "        self.test_batch_size: int = test_batch_size\n",
    "        self.shots: int = shots\n",
    "        self.backend = backend\n",
    "        self.parameterList = parameterList\n",
    "\n",
    "        self.circuit = circuit\n",
    "        self.transpiledCircuit = transpiledCircuit\n",
    "\n",
    "    def updateParams(self, new_param_values: NDArray[np.float64]) :\n",
    "        self.paramValues: NDArray[np.float64] = new_param_values\n",
    "\n",
    "    def createCircuit(self) :\n",
    "\n",
    "        qc = QuantumCircuit(3,1)\n",
    "\n",
    "        qc.ry(self.parameterList[0], 1)\n",
    "        qc.rx(self.parameterList[2], 1)\n",
    "        qc.rx(self.parameterList[0], 1)\n",
    "        qc.ry(self.parameterList[3], 1)\n",
    "        qc.rx(self.parameterList[0], 1)\n",
    "        qc.ry(self.parameterList[4], 1)\n",
    "        qc.rx(self.parameterList[0], 1)\n",
    "        qc.ry(self.parameterList[5], 1)\n",
    "        qc.rx(self.parameterList[0], 1)\n",
    "\n",
    "        qc.ry(self.parameterList[1], 2)\n",
    "        qc.rx(self.parameterList[2], 2)\n",
    "        qc.rx(self.parameterList[1], 2)\n",
    "        qc.ry(self.parameterList[3], 2)\n",
    "        qc.rx(self.parameterList[1], 2)\n",
    "        qc.ry(self.parameterList[4], 2)\n",
    "        qc.rx(self.parameterList[1], 2)\n",
    "        qc.ry(self.parameterList[5], 2)\n",
    "        qc.rx(self.parameterList[1], 2)\n",
    "\n",
    "        qc.h(0)\n",
    "        qc.cswap(0, 1, 2)\n",
    "        qc.h(0)\n",
    "\n",
    "        qc.measure(0, 0)\n",
    "\n",
    "        self.circuit = qc\n",
    "\n",
    "    def transpileCircuit(self) :\n",
    "        self.transpiledCircuit = transpile(self.circuit, backend=self.backend)\n",
    "\n",
    "    def fidelity(self, x1: np.float64, x2: np.float64) -> np.float64:\n",
    "\n",
    "        parametersDict = {\n",
    "            self.parameterList[0]: x1,\n",
    "            self.parameterList[1]: x2,\n",
    "            self.parameterList[2]: self.paramValues[0],\n",
    "            self.parameterList[3]: self.paramValues[1],\n",
    "            self.parameterList[4]: self.paramValues[2],\n",
    "            self.parameterList[5]: self.paramValues[3]\n",
    "        }\n",
    "\n",
    "        assert self.transpiledCircuit is not None, \"The transpiled circuit must be defined\"\n",
    "        boundCircuit = self.transpiledCircuit.assign_parameters(parametersDict)\n",
    "\n",
    "        job = backend.run(boundCircuit, shots=self.shots)\n",
    "        result = job.result()\n",
    "\n",
    "        counts = result.get_counts() # de la forme : {'0': 979, '1': 45}\n",
    "\n",
    "        zeros, ones = 0, 0\n",
    "        if '0' in counts.keys() :\n",
    "            zeros = counts['0']\n",
    "        if '1' in counts.keys() :\n",
    "            ones = counts['1']\n",
    "\n",
    "        return np.float64((zeros - ones) / self.shots)\n",
    "\n",
    "    def trace(self, class1: NDArray[np.float64], class2: NDArray[np.float64]) -> np.float64 :\n",
    "        \"\"\"\n",
    "        Compute the trace of the density matrix of class1 multiplied by the density matrix of class2\n",
    "\n",
    "        class1, class2 are arrays of data corresponding to each class\n",
    "        \"\"\"\n",
    "        result = np.float64(0)\n",
    "\n",
    "\n",
    "        for x1 in class1 :\n",
    "            for x2 in class2 :\n",
    "                result += self.fidelity(x1, x2)\n",
    "        \n",
    "        return result\n",
    "\n",
    "    def Dhs(self) -> np.float64 :\n",
    "        indices = np.random.choice(len(self.X), size=self.batch_size, replace=False)\n",
    "        \n",
    "        # Split the sampled data into two classes based on Y labels\n",
    "        Xsample = self.X[indices]\n",
    "        Ysample = self.Y[indices]\n",
    "        \n",
    "        Xpositive = Xsample[Ysample == 1]\n",
    "        Xnegative = Xsample[Ysample == -1] \n",
    "\n",
    "        return self.trace(Xpositive,Xpositive) + self.trace(Xnegative, Xnegative) - 2*self.trace(Xpositive, Xnegative)\n",
    "\n",
    "    def loss(self) -> np.float64 :\n",
    "        return 1-0.5*self.Dhs()\n",
    "    \n",
    "    def xrhox(self, x: np.float64, class1: NDArray[np.float64]) -> np.float64 :\n",
    "        result = np.float64(0)\n",
    "\n",
    "        for x1 in class1 :\n",
    "            result += self.fidelity(x, x1)\n",
    "        \n",
    "        return result\n",
    "    \n",
    "    def fidelityMeasurement(self, x: np.float64) -> np.float64 :\n",
    "        indices = np.random.choice(len(self.X), size=self.test_batch_size, replace=False)\n",
    "\n",
    "        Xsample = self.X[indices]\n",
    "        Ysample = self.Y[indices]\n",
    "        \n",
    "        Xpositive = Xsample[Ysample == 1]\n",
    "        Xnegative = Xsample[Ysample == -1] \n",
    "\n",
    "        return self.xrhox(x, Xpositive) - self.xrhox(x, Xnegative)\n",
    "    \n",
    "    def predict(self, x) :\n",
    "        out = self.fidelityMeasurement(x)\n",
    "\n",
    "        if out > 0 :\n",
    "            return 1\n",
    "        else :\n",
    "            return -1\n",
    "    \n",
    "    def predictArray(self, X: NDArray[np.float64]) -> NDArray[np.float64] :\n",
    "        return np.array([self.predict(x) for x in X])"
   ]
  },
  {
   "cell_type": "code",
   "execution_count": 169,
   "metadata": {},
   "outputs": [
    {
     "data": {
      "image/png": "[encoded data removed]",
      "text/plain": [
       "<Figure size 1123.61x367.889 with 1 Axes>"
      ]
     },
     "execution_count": 169,
     "metadata": {},
     "output_type": "execute_result"
    }
   ],
   "source": [
    "initParams = np.zeros(num_params, dtype=np.float64)\n",
    "\n",
    "qm = QuantumModel(initParams, X, Y, batch_size, test_batch_size, backend)\n",
    "\n",
    "qm.createCircuit()\n",
    "qm.transpileCircuit()\n",
    "\n",
    "qm.circuit.draw(\"mpl\")"
   ]
  },
  {
   "cell_type": "markdown",
   "metadata": {},
   "source": [
    "# Optimisation"
   ]
  },
  {
   "cell_type": "code",
   "execution_count": 170,
   "metadata": {},
   "outputs": [],
   "source": [
    "def objectiveFunction(params_: NDArray[np.float64]) -> np.float64 :\n",
    "\n",
    "    qm.updateParams(params_)\n",
    "    loss = qm.loss()\n",
    "\n",
    "\n",
    "    return loss\n"
   ]
  },
  {
   "cell_type": "code",
   "execution_count": 171,
   "metadata": {},
   "outputs": [
    {
     "name": "stdout",
     "output_type": "stream",
     "text": [
      " message: Optimization terminated successfully.\n",
      " success: True\n",
      "  status: 1\n",
      "     fun: -62.6689453125\n",
      "       x: [ 2.560e-02  1.141e+00 -7.073e-04 -2.661e-01]\n",
      "    nfev: 47\n",
      "   maxcv: 0.0\n"
     ]
    }
   ],
   "source": [
    "\n",
    "def train() :\n",
    "    result = minimize(objectiveFunction, initParams, method=\"COBYLA\", options={'maxiter': nb_iter})\n",
    "\n",
    "    return result\n",
    "\n",
    "result = train()\n",
    "print(result)\n"
   ]
  },
  {
   "cell_type": "markdown",
   "metadata": {},
   "source": [
    "# Inference"
   ]
  },
  {
   "cell_type": "code",
   "execution_count": 172,
   "metadata": {},
   "outputs": [
    {
     "name": "stdout",
     "output_type": "stream",
     "text": [
      "[ 5.30273438  2.49414062 -0.09179688  0.44921875 -4.23632812 -0.15234375\n",
      " -1.9921875   2.29882812  2.70703125  2.48046875  2.6875      4.6796875\n",
      "  0.78125     0.109375   -2.72265625 -1.1796875   0.79492188  7.46679688\n",
      " -0.16992188  1.67773438 -5.6953125   3.109375   -5.84765625 -2.6171875\n",
      " -0.36328125 -0.35742188  2.91601562  4.51367188  0.65429688 -2.09570312\n",
      " -5.91796875  5.20703125]\n"
     ]
    }
   ],
   "source": [
    "qm.updateParams(result.x)\n",
    "\n",
    "testFidelities = np.array([qm.fidelityMeasurement(x) for x in X_test])\n",
    "\n",
    "print(testFidelities)"
   ]
  },
  {
   "cell_type": "code",
   "execution_count": 178,
   "metadata": {},
   "outputs": [
    {
     "name": "stdout",
     "output_type": "stream",
     "text": [
      "Corrects : 26 / 32\n",
      "Accuracy : 0.8125\n"
     ]
    }
   ],
   "source": [
    "def computeAccuracy() :\n",
    "    params = result.x\n",
    "    qm.updateParams(params)\n",
    "\n",
    "    testFidelities = np.array([qm.fidelityMeasurement(x) for x in X_test])\n",
    "\n",
    "    corrects = np.sum(np.where(testFidelities > 0, 1, -1) == Y_test)\n",
    "    total = len(Y_test)\n",
    "    accuracy = corrects / total\n",
    "\n",
    "    return corrects, total, accuracy\n",
    "\n",
    "def printAccuracy() :\n",
    "    corrects, total, accuracy = computeAccuracy()\n",
    "    print(f\"Corrects : {corrects} / {total}\")\n",
    "    print(f\"Accuracy : {accuracy}\")\n",
    "\n",
    "printAccuracy()"
   ]
  },
  {
   "cell_type": "markdown",
   "metadata": {},
   "source": [
    "# Plots"
   ]
  },
  {
   "cell_type": "code",
   "execution_count": 173,
   "metadata": {},
   "outputs": [],
   "source": [
    "\n",
    "def plotPredictionsOnTest(params: NDArray[np.float64]) :\n",
    "    qm.updateParams(params)\n",
    "\n",
    "    Y_predict = qm.predictArray(X_test)\n",
    "\n",
    "    for i in range(len(X_test)) :\n",
    "        if Y_predict[i] > 0 :\n",
    "            plt.plot(X_test[i], 0, \"bo\")\n",
    "        else :\n",
    "            plt.plot(X_test[i], 0, \"ro\")\n",
    "\n",
    "        # On entoure les instances mal classifiées en vert\n",
    "        if Y_test[i] != Y_predict[i] :\n",
    "            plt.scatter(X_test[i], 0, s=200, facecolors=\"none\", edgecolors=\"g\", linewidths=2)\n",
    "\n",
    "    plt.axhline(0, color=\"lightgray\", linewidth=0.5)\n",
    "\n",
    "    plt.axvline(x=1, color='gray', linestyle='--', linewidth=1)\n",
    "    plt.axvline(x=-1, color='gray', linestyle='--', linewidth=1)\n",
    "\n",
    "    plt.title(\"Predicted test data\")\n",
    "    plt.xlabel(\"x_1\")\n",
    "    plt.xticks([-2, -1, 0, 1, 2])\n",
    "    plt.yticks([])\n",
    "    plt.xlim(-2, 2)\n",
    "    plt.show()"
   ]
  },
  {
   "cell_type": "markdown",
   "metadata": {},
   "source": [
    "### With random parameters"
   ]
  },
  {
   "cell_type": "code",
   "execution_count": 174,
   "metadata": {},
   "outputs": [
    {
     "data": {
      "image/png": "[encoded data removed]",
      "text/plain": [
       "<Figure size 640x480 with 1 Axes>"
      ]
     },
     "metadata": {},
     "output_type": "display_data"
    }
   ],
   "source": [
    "randomParams = 4 * np.pi * algorithm_globals.random.random(num_params)\n",
    "\n",
    "plotPredictionsOnTest(randomParams)"
   ]
  },
  {
   "cell_type": "markdown",
   "metadata": {},
   "source": [
    "### With optimized parameters"
   ]
  },
  {
   "cell_type": "code",
   "execution_count": 175,
   "metadata": {},
   "outputs": [
    {
     "data": {
      "image/png": "[encoded data removed]",
      "text/plain": [
       "<Figure size 640x480 with 1 Axes>"
      ]
     },
     "metadata": {},
     "output_type": "display_data"
    }
   ],
   "source": [
    "optimalParams = result.x\n",
    "\n",
    "plotPredictionsOnTest(optimalParams)"
   ]
  },
  {
   "cell_type": "markdown",
   "metadata": {},
   "source": [
    "# Inspiration"
   ]
  },
  {
   "cell_type": "code",
   "execution_count": 176,
   "metadata": {},
   "outputs": [
    {
     "ename": "SyntaxError",
     "evalue": "'return' outside function (1987156748.py, line 1)",
     "output_type": "error",
     "traceback": [
      "\u001b[1;36m  Cell \u001b[1;32mIn[176], line 1\u001b[1;36m\u001b[0m\n\u001b[1;33m    return 0\u001b[0m\n\u001b[1;37m    ^\u001b[0m\n\u001b[1;31mSyntaxError\u001b[0m\u001b[1;31m:\u001b[0m 'return' outside function\n"
     ]
    }
   ],
   "source": [
    "return 0"
   ]
  },
  {
   "cell_type": "code",
   "execution_count": 54,
   "metadata": {},
   "outputs": [
    {
     "name": "stdout",
     "output_type": "stream",
     "text": [
      "Résultats : {'0': 535, '1': 489}\n"
     ]
    }
   ],
   "source": [
    "# Use Aer\n",
    "\n",
    "from qiskit import QuantumCircuit, transpile\n",
    "from qiskit_aer import AerSimulator\n",
    "\n",
    "# Définir le backend (modifiez ici pour passer sur une machine réelle)\n",
    "backend = AerSimulator()\n",
    "\n",
    "# Définir des paramètres\n",
    "param1 = Parameter('θ1')\n",
    "param2 = Parameter('θ2')\n",
    "\n",
    "# Créer un circuit quantique avec des paramètres\n",
    "qc = QuantumCircuit(1)  # Un seul qubit\n",
    "qc.rx(param1, 0)        # Rotation autour de X\n",
    "qc.ry(param2, 0)        # Rotation autour de Y\n",
    "qc.rx(param1, 0)        # Rotation autour de X\n",
    "qc.measure_all()        # Mesurer tous les qubits\n",
    "\n",
    "transpiled_circuit = transpile(qc, backend)\n",
    "\n",
    "bound_circuit = transpiled_circuit.assign_parameters({param1: 0.5, param2: 1.2}) # Dans assign_parameters : dico dont les keys sont des Parameter objects et les values des float\n",
    "\n",
    "# Exécuter le circuit\n",
    "job = backend.run(bound_circuit, shots=1024)\n",
    "result = job.result()\n",
    "\n",
    "# Afficher les résultats\n",
    "counts = result.get_counts()\n",
    "print(\"Résultats :\", counts)"
   ]
  },
  {
   "cell_type": "code",
   "execution_count": 105,
   "metadata": {},
   "outputs": [
    {
     "ename": "NameError",
     "evalue": "name 'estimator_classifier' is not defined",
     "output_type": "error",
     "traceback": [
      "\u001b[1;31m---------------------------------------------------------------------------\u001b[0m",
      "\u001b[1;31mNameError\u001b[0m                                 Traceback (most recent call last)",
      "Cell \u001b[1;32mIn[105], line 4\u001b[0m\n\u001b[0;32m      1\u001b[0m \u001b[38;5;66;03m#plotting\u001b[39;00m\n\u001b[0;32m      2\u001b[0m \n\u001b[0;32m      3\u001b[0m \u001b[38;5;66;03m# On génère les valeurs prédites sur le test set\u001b[39;00m\n\u001b[1;32m----> 4\u001b[0m y_predict_test \u001b[38;5;241m=\u001b[39m \u001b[43mestimator_classifier\u001b[49m\u001b[38;5;241m.\u001b[39mpredict(X_test)\n\u001b[0;32m      6\u001b[0m \u001b[38;5;66;03m# On plot le résultat\u001b[39;00m\n\u001b[0;32m      7\u001b[0m \u001b[38;5;66;03m# Red circles indicate misclassified points\u001b[39;00m\n\u001b[0;32m      8\u001b[0m \u001b[38;5;28;01mfor\u001b[39;00m x, y_target, y_p \u001b[38;5;129;01min\u001b[39;00m \u001b[38;5;28mzip\u001b[39m(X_test, y_test, y_predict_test):\n",
      "\u001b[1;31mNameError\u001b[0m: name 'estimator_classifier' is not defined"
     ]
    }
   ],
   "source": [
    "#plotting\n",
    "\n",
    "# On génère les valeurs prédites sur le test set\n",
    "y_predict_test = estimator_classifier.predict(X_test)\n",
    "\n",
    "# On plot le résultat\n",
    "# Red circles indicate misclassified points\n",
    "for x, y_target, y_p in zip(X_test, y_test, y_predict_test):\n",
    "    if y_p == 1:\n",
    "        plt.plot(x[0], 0, \"bo\") \n",
    "    else:\n",
    "        plt.plot(x[0], 0, \"ro\")\n",
    "    \n",
    "    # On entoure les instances mal classifiées en vert\n",
    "    if y_target != y_p:\n",
    "        plt.scatter(x[0], 0, s=200, facecolors=\"none\", edgecolors=\"g\", linewidths=2)\n",
    "\n",
    "plt.axhline(0, color=\"lightgray\", linewidth=0.5)\n",
    "plt.title(\"Prediction Results (Green = Misclassified)\")\n",
    "plt.xlabel(\"x_1\")\n",
    "plt.show()\n",
    "score_test = estimator_classifier.score(X_test, y_test)\n",
    "print(f\"Score sur les données de test: {score_test}\")"
   ]
  },
  {
   "cell_type": "code",
   "execution_count": null,
   "metadata": {},
   "outputs": [
    {
     "name": "stdout",
     "output_type": "stream",
     "text": [
      "Average Measurement Result: -0.76953125\n"
     ]
    }
   ],
   "source": [
    "# assign and run a circuit\n",
    "\n",
    "from qiskit import QuantumCircuit\n",
    "from qiskit.circuit import Parameter\n",
    "import numpy as np\n",
    "import matplotlib.pyplot as plt\n",
    "\n",
    "# Define parameters for the circuit (example: 4 parameters)\n",
    "params = [Parameter(\"x1\"), Parameter(\"theta1\"), Parameter(\"theta2\"), Parameter(\"theta3\")]\n",
    "\n",
    "# Create a quantum circuit with 1 qubit and 1 classical bit\n",
    "qcc = QuantumCircuit(1, 1)\n",
    "\n",
    "# Apply gates with parameters\n",
    "qcc.rx(params[0], 0)  # First RX gate\n",
    "qcc.ry(params[1], 0)  # First RY gate\n",
    "qcc.rx(params[2], 0)  # Second RX gate\n",
    "qcc.ry(params[3], 0)  # Second RY gate\n",
    "\n",
    "# Add a measurement operation\n",
    "qcc.measure(0, 0)\n",
    "\n",
    "# Define the parameter values to bind to the circuit\n",
    "param_values = {params[0]: np.pi / 2, params[1]: np.pi / 4, params[2]: np.pi / 3, params[3]: np.pi / 6}\n",
    "\n",
    "# Bind the parameters to the circuit\n",
    "qcc_with_params = qcc.assign_parameters(param_values)\n",
    "\n",
    "# Set up the estimator and run the circuit\n",
    "estimator = Estimator()\n",
    "\n",
    "# Define the Pauli operator for measurement (Z operator in this case)\n",
    "pauli_z = Pauli('Z')\n",
    "\n",
    "# Run the estimator on the circuit with the Pauli operator\n",
    "job = estimator.run([qcc_with_params], [pauli_z])\n",
    "\n",
    "# Get the result from the execution\n",
    "result = job.result().values[0]\n",
    "\n",
    "# Print the average measurement result\n",
    "print(\"Average Measurement Result:\", result)\n"
   ]
  },
  {
   "cell_type": "code",
   "execution_count": null,
   "metadata": {},
   "outputs": [
    {
     "name": "stdout",
     "output_type": "stream",
     "text": [
      " message: Optimization terminated successfully.\n",
      " success: True\n",
      "  status: 1\n",
      "     fun: 2.228145834458338e-09\n",
      "       x: [-2.429e-06  2.538e-05  1.476e-05 -3.688e-05]\n",
      "    nfev: 1092\n",
      "   maxcv: 0.0\n"
     ]
    }
   ],
   "source": [
    "# cobyla tuto\n",
    "\n",
    "def objective_function(params_):\n",
    "    return params_[0]**2 + params_[1]**2 + params_[2]**2 + params_[3]**2\n",
    "\n",
    "def train() :\n",
    "    initial_params = np.array([1.0, -1.0, 10.0, 999.0])\n",
    "\n",
    "    result = minimize(objective_function, initial_params, method=\"COBYLA\", options={'maxiter': 10000})\n",
    "\n",
    "    return result\n",
    "\n",
    "result = train()\n",
    "print(result)\n"
   ]
  },
  {
   "cell_type": "code",
   "execution_count": null,
   "metadata": {},
   "outputs": [],
   "source": [
    "#multiqubit swap test maybe\n",
    "\n",
    "from qiskit import QuantumCircuit\n",
    "\n",
    "def create_swap_test(num_qubits: int):\n",
    "    \"\"\"\n",
    "    Creates a swap test circuit.\n",
    "\n",
    "    Args:\n",
    "        num_qubits: The total number of qubits in the two registers to be compared.\n",
    "\n",
    "    Returns:\n",
    "        A QuantumCircuit implementing the swap test.\n",
    "    \"\"\"\n",
    "    # The swap test needs 1 ancillary qubit and 2 registers of qubits\n",
    "    swap_test_circuit = QuantumCircuit(num_qubits + 1, 1)\n",
    "\n",
    "    # Apply a Hadamard gate to the ancillary qubit\n",
    "    swap_test_circuit.h(0)\n",
    "\n",
    "    # Apply controlled-SWAP gates between the two qubit registers\n",
    "    for i in range(1, (num_qubits // 2) + 1):\n",
    "        swap_test_circuit.cswap(0, i, i + (num_qubits // 2))\n",
    "\n",
    "    # Apply another Hadamard gate to the ancillary qubit\n",
    "    swap_test_circuit.h(0)\n",
    "\n",
    "    # Measure the ancillary qubit\n",
    "    swap_test_circuit.measure(0, 0)\n",
    "\n",
    "    return swap_test_circuit\n"
   ]
  },
  {
   "cell_type": "code",
   "execution_count": null,
   "metadata": {},
   "outputs": [],
   "source": [
    "#cat\n",
    "\n",
    "x1 = 2\n",
    "\n",
    "fullparams = np.concatenate(([x1], initParams))\n",
    "\n",
    "print(fullparams)"
   ]
  }
 ],
 "metadata": {
  "kernelspec": {
   "display_name": "qiskitEnv",
   "language": "python",
   "name": "python3"
  },
  "language_info": {
   "codemirror_mode": {
    "name": "ipython",
    "version": 3
   },
   "file_extension": ".py",
   "mimetype": "text/x-python",
   "name": "python",
   "nbconvert_exporter": "python",
   "pygments_lexer": "ipython3",
   "version": "3.10.9"
  }
 },
 "nbformat": 4,
 "nbformat_minor": 2
}
