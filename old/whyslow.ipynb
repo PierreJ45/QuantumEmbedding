{
 "cells": [
  {
   "cell_type": "markdown",
   "metadata": {},
   "source": [
    "# Imports and Data"
   ]
  },
  {
   "cell_type": "code",
   "execution_count": 1,
   "metadata": {},
   "outputs": [],
   "source": [
    "import matplotlib.pyplot as plt\n",
    "import numpy as np\n",
    "from qiskit import QuantumCircuit\n",
    "from qiskit.circuit import Parameter\n",
    "from qiskit_machine_learning.utils import algorithm_globals\n",
    "from scipy.optimize import minimize\n",
    "from qiskit.quantum_info import Pauli\n",
    "from qiskit_aer.primitives import Estimator\n",
    "from numpy.typing import NDArray\n",
    "\n",
    "algorithm_globals.random_seed = 42"
   ]
  },
  {
   "cell_type": "code",
   "execution_count": 2,
   "metadata": {},
   "outputs": [],
   "source": [
    "num_inputs = 1 # num of features (p)\n",
    "num_samples_train = 8 # num of instances (n)\n",
    "num_samples_test = 4\n",
    "num_params = 4\n",
    "nb_iter = 1"
   ]
  },
  {
   "cell_type": "code",
   "execution_count": 3,
   "metadata": {},
   "outputs": [],
   "source": [
    "# Points between -2 and 2 on a single axis\n",
    "X = 4 * algorithm_globals.random.random(num_samples_train) - 2  \n",
    "X_test = 4 * algorithm_globals.random.random(num_samples_test) - 2\n",
    "\n",
    "# Blue if between -1 and 1, red otherwise\n",
    "Y = np.where((X >= -1) & (X <= 1), 1, -1)  # Y contains 1 and -1\n",
    "Y_test = np.where((X_test >= -1) & (X_test <= 1), 1, -1)\n",
    "\n",
    "# Ensure the arrays are of type float64\n",
    "X = X.astype(np.float64)\n",
    "Y = Y.astype(np.float64)\n",
    "X_test = X_test.astype(np.float64)\n",
    "Y_test = Y_test.astype(np.float64)"
   ]
  },
  {
   "cell_type": "code",
   "execution_count": 4,
   "metadata": {},
   "outputs": [
    {
     "data": {
      "image/png": "[encoded data removed]",
      "text/plain": [
       "<Figure size 640x480 with 1 Axes>"
      ]
     },
     "metadata": {},
     "output_type": "display_data"
    }
   ],
   "source": [
    "# On plot la distribution\n",
    "for x_i, y_i in zip(X, Y):\n",
    "    if y_i == 1:\n",
    "        plt.plot(x_i, 0, \"bo\") \n",
    "    else:\n",
    "        plt.plot(x_i, 0, \"ro\")\n",
    "\n",
    "plt.axhline(0, color=\"lightgray\", linewidth=0.5)\n",
    "plt.title(\"Original train data\")\n",
    "plt.xlabel(\"x_1\")\n",
    "plt.xticks([-2, -1, 0, 1, 2])\n",
    "plt.yticks([])\n",
    "plt.xlim(-2, 2)\n",
    "plt.show()"
   ]
  },
  {
   "cell_type": "markdown",
   "metadata": {},
   "source": [
    "# Circuit"
   ]
  },
  {
   "cell_type": "code",
   "execution_count": 5,
   "metadata": {},
   "outputs": [
    {
     "data": {
      "image/png": "[encoded data removed]",
      "text/plain": [
       "<Figure size 854.342x117.056 with 1 Axes>"
      ]
     },
     "execution_count": 5,
     "metadata": {},
     "output_type": "execute_result"
    }
   ],
   "source": [
    "# Le circuit contient 1 input et 4 paramètres à entrainer\n",
    "params5 = [Parameter(\"x1\"), Parameter(\"theta1\"), Parameter(\"theta2\"), Parameter(\"theta3\"), Parameter(\"theta4\")]\n",
    "# Le circuit utilise un seul qubit\n",
    "qcc = QuantumCircuit(1) \n",
    "# On suit l'architecture du papier\n",
    "qcc.rx(params5[0], 0)\n",
    "qcc.ry(params5[1], 0)\n",
    "qcc.rx(params5[0], 0)\n",
    "qcc.ry(params5[2], 0)\n",
    "qcc.rx(params5[0], 0)\n",
    "qcc.ry(params5[3], 0)\n",
    "qcc.rx(params5[0], 0)\n",
    "qcc.ry(params5[4], 0)\n",
    "qcc.rx(params5[0], 0)\n",
    "\n",
    "qcc.draw(\"mpl\", style=\"clifford\")"
   ]
  },
  {
   "cell_type": "code",
   "execution_count": 6,
   "metadata": {},
   "outputs": [
    {
     "data": {
      "image/png": "[encoded data removed]",
      "text/plain": [
       "<Figure size 454.719x367.889 with 1 Axes>"
      ]
     },
     "execution_count": 6,
     "metadata": {},
     "output_type": "execute_result"
    }
   ],
   "source": [
    "\n",
    "#Only for illustration purposes\n",
    "swapCircuit = QuantumCircuit(3, 1)\n",
    "\n",
    "swapCircuit.h(0)\n",
    "swapCircuit.cswap(0, 1, 2)\n",
    "swapCircuit.h(0)\n",
    "\n",
    "swapCircuit.measure(0, 0)\n",
    "\n",
    "swapCircuit.draw(\"mpl\")"
   ]
  },
  {
   "cell_type": "markdown",
   "metadata": {},
   "source": [
    "# Model"
   ]
  },
  {
   "cell_type": "code",
   "execution_count": 7,
   "metadata": {},
   "outputs": [],
   "source": [
    "class QuantumModel() :\n",
    "    def __init__(self, circuit: QuantumCircuit, params: NDArray[np.float64], X: NDArray[np.float64], Y: NDArray[np.float64]):\n",
    "        self.circuit: QuantumCircuit = circuit #The circuit outputs an embedding\n",
    "        self.params: NDArray[np.float64] = params\n",
    "        self.X: NDArray[np.float64] = X\n",
    "        self.Y: NDArray[np.float64] = Y\n",
    "        self.Xpositive: NDArray[np.float64] = self.X[self.Y == 1]\n",
    "        self.Xnegative: NDArray[np.float64] = self.X[self.Y == -1]\n",
    "\n",
    "        self.estimator = Estimator()\n",
    "        self.pauli_z = Pauli('ZII')\n",
    "\n",
    "    def updateParams(self, new_params: NDArray[np.float64]) :\n",
    "        self.params: NDArray[np.float64] = new_params\n",
    "\n",
    "    def fullSwapTestCircuit(self, x1: np.float64, x2: np.float64) -> QuantumCircuit :\n",
    "        \"\"\"\n",
    "        Returns a circuit that computes the swap test between two states, using self.params as parameters\n",
    "        \"\"\"\n",
    "\n",
    "        fullParams1 = {params5[0] : x1, params5[1] : self.params[0], params5[2] : self.params[1], params5[3] : self.params[2], params5[4] : self.params[3]}\n",
    "        circuit1 = self.circuit.copy()\n",
    "        circuit1.assign_parameters(fullParams1)\n",
    "\n",
    "        fullParams2 = {params5[0] : x2, params5[1] : self.params[0], params5[2] : self.params[1], params5[3] : self.params[2], params5[4] : self.params[3]}\n",
    "        circuit2 = self.circuit.copy()\n",
    "        circuit2.assign_parameters(fullParams2)\n",
    "\n",
    "        qc = QuantumCircuit(3, 1)\n",
    "\n",
    "        qc.h(0)\n",
    "        qc.compose(circuit1, [1], inplace=True)\n",
    "        qc.compose(circuit2, [2], inplace=True)\n",
    "        qc.cswap(0, 1, 2)\n",
    "        qc.h(0)\n",
    "\n",
    "        qc.measure(0, 0)\n",
    "\n",
    "        return qc\n",
    "\n",
    "    def fidelity(self, x1: np.float64, x2: np.float64) -> np.float64:\n",
    "        # Create a copy of the circuit to avoid modifying the original circuit\n",
    "        circuit1 = self.circuit.copy()\n",
    "        circuit2 = self.circuit.copy()\n",
    "\n",
    "        # Assign parameters to the circuits\n",
    "        fullParams1 = {\n",
    "            params5[0]: x1,\n",
    "            params5[1]: self.params[0],\n",
    "            params5[2]: self.params[1],\n",
    "            params5[3]: self.params[2],\n",
    "            params5[4]: self.params[3]\n",
    "        }\n",
    "        circuit1 = circuit1.assign_parameters(fullParams1)\n",
    "\n",
    "        fullParams2 = {\n",
    "            params5[0]: x2,\n",
    "            params5[1]: self.params[0],\n",
    "            params5[2]: self.params[1],\n",
    "            params5[3]: self.params[2],\n",
    "            params5[4]: self.params[3]\n",
    "        }\n",
    "        circuit2 = circuit2.assign_parameters(fullParams2)\n",
    "\n",
    "        # Create the swap test circuit\n",
    "        qc = QuantumCircuit(3, 1)\n",
    "        qc.h(0)\n",
    "        qc.compose(circuit1, [1], inplace=True)\n",
    "        qc.compose(circuit2, [2], inplace=True)\n",
    "        qc.cswap(0, 1, 2)\n",
    "        qc.h(0)\n",
    "        qc.measure(0, 0)\n",
    "\n",
    "        # Run the estimator\n",
    "        job = self.estimator.run([qc], [self.pauli_z])\n",
    "        result = job.result().values[0]\n",
    "\n",
    "        return np.float64(result)\n",
    "\n",
    "    def trace(self, class1: NDArray[np.float64], class2: NDArray[np.float64]) -> np.float64 :\n",
    "        \"\"\"\n",
    "        Compute the trace of the density matrix of class1 multiplied by the density matrix of class2\n",
    "\n",
    "        class1, class2 are arrays of data corresponding to each class\n",
    "        \"\"\"\n",
    "        result = np.float64(0)\n",
    "\n",
    "\n",
    "        for x1 in class1 :\n",
    "            for x2 in class2 :\n",
    "                result += self.fidelity(x1, x2)\n",
    "        \n",
    "        return result\n",
    "\n",
    "    def Dhs(self) -> np.float64 :\n",
    "        return self.trace(self.Xpositive, self.Xpositive) + self.trace(self.Xnegative, self.Xnegative) - 2*self.trace(self.Xpositive, self.Xnegative)\n",
    "\n",
    "    def loss(self) -> np.float64 :\n",
    "        return 1-0.5*self.Dhs()\n",
    "    \n",
    "    def xrhox(self, x: np.float64, class1: NDArray[np.float64]) -> np.float64 :\n",
    "        result = np.float64(0)\n",
    "\n",
    "        for x1 in class1 :\n",
    "            result += self.fidelity(x, x1)\n",
    "        \n",
    "        return result\n",
    "    \n",
    "    def fidelityMeasurement(self, x: np.float64) -> np.float64 :\n",
    "        return self.xrhox(x, self.Xpositive) - self.xrhox(x, self.Xnegative)\n",
    "    \n",
    "    def predictArray(self, X: NDArray[np.float64]) -> NDArray[np.float64] :\n",
    "        return np.array([self.fidelityMeasurement(x) for x in X])"
   ]
  },
  {
   "cell_type": "code",
   "execution_count": 8,
   "metadata": {},
   "outputs": [
    {
     "name": "stderr",
     "output_type": "stream",
     "text": [
      "C:\\Users\\sandr\\AppData\\Local\\Temp\\ipykernel_13848\\1185181023.py:3: DeprecationWarning: Estimator has been deprecated as of Aer 0.15, please use EstimatorV2 instead.\n",
      "  model = QuantumModel(qcc, initParams, X, Y)\n",
      "C:\\Users\\sandr\\AppData\\Local\\Temp\\ipykernel_13848\\1185181023.py:3: DeprecationWarning: Option approximation=False is deprecated as of qiskit-aer 0.13. It will be removed no earlier than 3 months after the release date. Instead, use BackendEstimator from qiskit.primitives.\n",
      "  model = QuantumModel(qcc, initParams, X, Y)\n"
     ]
    }
   ],
   "source": [
    "initParams = np.zeros(num_params, dtype=np.float64)\n",
    "\n",
    "model = QuantumModel(qcc, initParams, X, Y)"
   ]
  },
  {
   "cell_type": "code",
   "execution_count": 9,
   "metadata": {},
   "outputs": [
    {
     "data": {
      "image/png": "[encoded data removed]",
      "text/plain": [
       "<Figure size 1123.61x367.889 with 1 Axes>"
      ]
     },
     "execution_count": 9,
     "metadata": {},
     "output_type": "execute_result"
    }
   ],
   "source": [
    "cc = model.fullSwapTestCircuit(np.float64(11), np.float64(22))\n",
    "\n",
    "cc.draw(\"mpl\")"
   ]
  },
  {
   "cell_type": "markdown",
   "metadata": {},
   "source": [
    "# Optimisation"
   ]
  },
  {
   "cell_type": "code",
   "execution_count": 10,
   "metadata": {},
   "outputs": [],
   "source": [
    "countCalls = 0"
   ]
  },
  {
   "cell_type": "code",
   "execution_count": 11,
   "metadata": {},
   "outputs": [],
   "source": [
    "def objectiveFunction(params_: NDArray[np.float64]) -> np.float64 :\n",
    "\n",
    "    model.updateParams(params_)\n",
    "    loss = model.loss()\n",
    "\n",
    "    global countCalls\n",
    "    countCalls += 1\n",
    "\n",
    "    return loss\n"
   ]
  },
  {
   "cell_type": "code",
   "execution_count": 12,
   "metadata": {},
   "outputs": [
    {
     "name": "stdout",
     "output_type": "stream",
     "text": [
      " message: Maximum number of function evaluations has been exceeded.\n",
      " success: False\n",
      "  status: 2\n",
      "     fun: -2.4677734375\n",
      "       x: [ 0.000e+00  0.000e+00  0.000e+00  0.000e+00]\n",
      "    nfev: 1\n",
      "   maxcv: 0.0\n"
     ]
    }
   ],
   "source": [
    "\n",
    "def train() :\n",
    "    result = minimize(objectiveFunction, initParams, method=\"COBYLA\", options={'maxiter': nb_iter})\n",
    "\n",
    "    return result\n",
    "\n",
    "result = train()\n",
    "print(result)\n"
   ]
  },
  {
   "cell_type": "code",
   "execution_count": 13,
   "metadata": {},
   "outputs": [
    {
     "name": "stdout",
     "output_type": "stream",
     "text": [
      "1\n"
     ]
    }
   ],
   "source": [
    "print(countCalls)"
   ]
  },
  {
   "cell_type": "markdown",
   "metadata": {},
   "source": [
    "# Inference"
   ]
  },
  {
   "cell_type": "code",
   "execution_count": 14,
   "metadata": {},
   "outputs": [
    {
     "name": "stdout",
     "output_type": "stream",
     "text": [
      "-1.83984375\n"
     ]
    }
   ],
   "source": [
    "x = np.float64(0.22)\n",
    "\n",
    "print(model.fidelityMeasurement(x))"
   ]
  }
 ],
 "metadata": {
  "kernelspec": {
   "display_name": "qiskitEnv",
   "language": "python",
   "name": "python3"
  },
  "language_info": {
   "codemirror_mode": {
    "name": "ipython",
    "version": 3
   },
   "file_extension": ".py",
   "mimetype": "text/x-python",
   "name": "python",
   "nbconvert_exporter": "python",
   "pygments_lexer": "ipython3",
   "version": "3.10.9"
  }
 },
 "nbformat": 4,
 "nbformat_minor": 2
}
